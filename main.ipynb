{
 "cells": [
  {
   "cell_type": "code",
   "execution_count": 9,
   "metadata": {},
   "outputs": [],
   "source": [
    "#setup\n",
    "import numpy as np\n",
    "import pandas as pd\n",
    "import matplotlib.pyplot as plt\n",
    "\n",
    "from collections import defaultdict\n",
    "from itertools import cycle\n",
    "\n",
    "from datetime import datetime\n",
    "\n",
    "from tqdm import tqdm\n",
    "\n",
    "from sklearn.gaussian_process import GaussianProcessClassifier, GaussianProcessRegressor\n",
    "from sklearn.gaussian_process.kernels import RBF, WhiteKernel"
   ]
  },
  {
   "cell_type": "code",
   "execution_count": 10,
   "metadata": {},
   "outputs": [
    {
     "name": "stdout",
     "output_type": "stream",
     "text": [
      "  % Total    % Received % Xferd  Average Speed   Time    Time     Time  Current\n",
      "                                 Dload  Upload   Total   Spent    Left  Speed\n",
      "100 9244k  100 9244k    0     0  9580k      0  0:00:01 --:--:--  0:00:01 6906k  0 --:--:-- --:--:-- --:--:-- 9570k\n"
     ]
    }
   ],
   "source": [
    "!curl https://projects.fivethirtyeight.com/nba-model/nba_elo.csv -o nba_data.csv"
   ]
  },
  {
   "cell_type": "code",
   "execution_count": 11,
   "metadata": {},
   "outputs": [],
   "source": [
    "df = pd.read_csv('nba_data.csv')"
   ]
  },
  {
   "cell_type": "code",
   "execution_count": 12,
   "metadata": {},
   "outputs": [
    {
     "data": {
      "text/html": [
       "<div>\n",
       "<style scoped>\n",
       "    .dataframe tbody tr th:only-of-type {\n",
       "        vertical-align: middle;\n",
       "    }\n",
       "\n",
       "    .dataframe tbody tr th {\n",
       "        vertical-align: top;\n",
       "    }\n",
       "\n",
       "    .dataframe thead th {\n",
       "        text-align: right;\n",
       "    }\n",
       "</style>\n",
       "<table border=\"1\" class=\"dataframe\">\n",
       "  <thead>\n",
       "    <tr style=\"text-align: right;\">\n",
       "      <th></th>\n",
       "      <th>date</th>\n",
       "      <th>season</th>\n",
       "      <th>neutral</th>\n",
       "      <th>playoff</th>\n",
       "      <th>team1</th>\n",
       "      <th>team2</th>\n",
       "      <th>elo1_pre</th>\n",
       "      <th>elo2_pre</th>\n",
       "      <th>elo_prob1</th>\n",
       "      <th>elo_prob2</th>\n",
       "      <th>...</th>\n",
       "      <th>carm-elo_prob1</th>\n",
       "      <th>carm-elo_prob2</th>\n",
       "      <th>carm-elo1_post</th>\n",
       "      <th>carm-elo2_post</th>\n",
       "      <th>raptor1_pre</th>\n",
       "      <th>raptor2_pre</th>\n",
       "      <th>raptor_prob1</th>\n",
       "      <th>raptor_prob2</th>\n",
       "      <th>score1</th>\n",
       "      <th>score2</th>\n",
       "    </tr>\n",
       "  </thead>\n",
       "  <tbody>\n",
       "    <tr>\n",
       "      <th>0</th>\n",
       "      <td>1946-11-01</td>\n",
       "      <td>1947</td>\n",
       "      <td>0</td>\n",
       "      <td>NaN</td>\n",
       "      <td>TRH</td>\n",
       "      <td>NYK</td>\n",
       "      <td>1300.0</td>\n",
       "      <td>1300.0000</td>\n",
       "      <td>0.640065</td>\n",
       "      <td>0.359935</td>\n",
       "      <td>...</td>\n",
       "      <td>NaN</td>\n",
       "      <td>NaN</td>\n",
       "      <td>NaN</td>\n",
       "      <td>NaN</td>\n",
       "      <td>NaN</td>\n",
       "      <td>NaN</td>\n",
       "      <td>NaN</td>\n",
       "      <td>NaN</td>\n",
       "      <td>66.0</td>\n",
       "      <td>68.0</td>\n",
       "    </tr>\n",
       "    <tr>\n",
       "      <th>1</th>\n",
       "      <td>1946-11-02</td>\n",
       "      <td>1947</td>\n",
       "      <td>0</td>\n",
       "      <td>NaN</td>\n",
       "      <td>CHS</td>\n",
       "      <td>NYK</td>\n",
       "      <td>1300.0</td>\n",
       "      <td>1306.7233</td>\n",
       "      <td>0.631101</td>\n",
       "      <td>0.368899</td>\n",
       "      <td>...</td>\n",
       "      <td>NaN</td>\n",
       "      <td>NaN</td>\n",
       "      <td>NaN</td>\n",
       "      <td>NaN</td>\n",
       "      <td>NaN</td>\n",
       "      <td>NaN</td>\n",
       "      <td>NaN</td>\n",
       "      <td>NaN</td>\n",
       "      <td>63.0</td>\n",
       "      <td>47.0</td>\n",
       "    </tr>\n",
       "    <tr>\n",
       "      <th>2</th>\n",
       "      <td>1946-11-02</td>\n",
       "      <td>1947</td>\n",
       "      <td>0</td>\n",
       "      <td>NaN</td>\n",
       "      <td>PRO</td>\n",
       "      <td>BOS</td>\n",
       "      <td>1300.0</td>\n",
       "      <td>1300.0000</td>\n",
       "      <td>0.640065</td>\n",
       "      <td>0.359935</td>\n",
       "      <td>...</td>\n",
       "      <td>NaN</td>\n",
       "      <td>NaN</td>\n",
       "      <td>NaN</td>\n",
       "      <td>NaN</td>\n",
       "      <td>NaN</td>\n",
       "      <td>NaN</td>\n",
       "      <td>NaN</td>\n",
       "      <td>NaN</td>\n",
       "      <td>59.0</td>\n",
       "      <td>53.0</td>\n",
       "    </tr>\n",
       "    <tr>\n",
       "      <th>3</th>\n",
       "      <td>1946-11-02</td>\n",
       "      <td>1947</td>\n",
       "      <td>0</td>\n",
       "      <td>NaN</td>\n",
       "      <td>STB</td>\n",
       "      <td>PIT</td>\n",
       "      <td>1300.0</td>\n",
       "      <td>1300.0000</td>\n",
       "      <td>0.640065</td>\n",
       "      <td>0.359935</td>\n",
       "      <td>...</td>\n",
       "      <td>NaN</td>\n",
       "      <td>NaN</td>\n",
       "      <td>NaN</td>\n",
       "      <td>NaN</td>\n",
       "      <td>NaN</td>\n",
       "      <td>NaN</td>\n",
       "      <td>NaN</td>\n",
       "      <td>NaN</td>\n",
       "      <td>56.0</td>\n",
       "      <td>51.0</td>\n",
       "    </tr>\n",
       "    <tr>\n",
       "      <th>4</th>\n",
       "      <td>1946-11-02</td>\n",
       "      <td>1947</td>\n",
       "      <td>0</td>\n",
       "      <td>NaN</td>\n",
       "      <td>DTF</td>\n",
       "      <td>WSC</td>\n",
       "      <td>1300.0</td>\n",
       "      <td>1300.0000</td>\n",
       "      <td>0.640065</td>\n",
       "      <td>0.359935</td>\n",
       "      <td>...</td>\n",
       "      <td>NaN</td>\n",
       "      <td>NaN</td>\n",
       "      <td>NaN</td>\n",
       "      <td>NaN</td>\n",
       "      <td>NaN</td>\n",
       "      <td>NaN</td>\n",
       "      <td>NaN</td>\n",
       "      <td>NaN</td>\n",
       "      <td>33.0</td>\n",
       "      <td>50.0</td>\n",
       "    </tr>\n",
       "  </tbody>\n",
       "</table>\n",
       "<p>5 rows × 24 columns</p>\n",
       "</div>"
      ],
      "text/plain": [
       "         date  season  neutral playoff team1 team2  elo1_pre   elo2_pre  \\\n",
       "0  1946-11-01    1947        0     NaN   TRH   NYK    1300.0  1300.0000   \n",
       "1  1946-11-02    1947        0     NaN   CHS   NYK    1300.0  1306.7233   \n",
       "2  1946-11-02    1947        0     NaN   PRO   BOS    1300.0  1300.0000   \n",
       "3  1946-11-02    1947        0     NaN   STB   PIT    1300.0  1300.0000   \n",
       "4  1946-11-02    1947        0     NaN   DTF   WSC    1300.0  1300.0000   \n",
       "\n",
       "   elo_prob1  elo_prob2  ...  carm-elo_prob1  carm-elo_prob2  carm-elo1_post  \\\n",
       "0   0.640065   0.359935  ...             NaN             NaN             NaN   \n",
       "1   0.631101   0.368899  ...             NaN             NaN             NaN   \n",
       "2   0.640065   0.359935  ...             NaN             NaN             NaN   \n",
       "3   0.640065   0.359935  ...             NaN             NaN             NaN   \n",
       "4   0.640065   0.359935  ...             NaN             NaN             NaN   \n",
       "\n",
       "   carm-elo2_post  raptor1_pre  raptor2_pre  raptor_prob1  raptor_prob2  \\\n",
       "0             NaN          NaN          NaN           NaN           NaN   \n",
       "1             NaN          NaN          NaN           NaN           NaN   \n",
       "2             NaN          NaN          NaN           NaN           NaN   \n",
       "3             NaN          NaN          NaN           NaN           NaN   \n",
       "4             NaN          NaN          NaN           NaN           NaN   \n",
       "\n",
       "   score1  score2  \n",
       "0    66.0    68.0  \n",
       "1    63.0    47.0  \n",
       "2    59.0    53.0  \n",
       "3    56.0    51.0  \n",
       "4    33.0    50.0  \n",
       "\n",
       "[5 rows x 24 columns]"
      ]
     },
     "execution_count": 12,
     "metadata": {},
     "output_type": "execute_result"
    }
   ],
   "source": [
    "df.head()"
   ]
  },
  {
   "cell_type": "markdown",
   "metadata": {},
   "source": [
    "We'll use only date, season, teams, scores, and post game elos"
   ]
  },
  {
   "cell_type": "code",
   "execution_count": 13,
   "metadata": {},
   "outputs": [],
   "source": [
    "teams = np.unique(np.append(df['team1'], df['team2']))"
   ]
  },
  {
   "cell_type": "code",
   "execution_count": 14,
   "metadata": {},
   "outputs": [],
   "source": [
    "def plot_skills(items, figsize=(14.0, 3.0), title='Evolution of skill of NBA teams'):\n",
    "    colors = cycle(plt.cm.tab10(np.linspace(0, 1, 10)))\n",
    "    fig, ax = plt.subplots(figsize=figsize)\n",
    "    \n",
    "    ax.set_title(title)\n",
    "    for spine in ('top', 'right', 'bottom', 'left'):\n",
    "        ax.spines[spine].set_visible(False)\n",
    "    ax.grid(axis='x', alpha=0.5)\n",
    "    \n",
    "    if isinstance(items, list):\n",
    "        for team in items:\n",
    "            color = next(colors)\n",
    "            gpr = gprs[team]\n",
    "            dates = df[(df['team1'] == team) | (df['team2'] == team)]['date']\n",
    "        \n",
    "            dates = [datetime.fromisoformat(el).timestamp() for el in dates]\n",
    "            x = np.linspace(min(dates), max(dates), 1000).reshape(-1, 1)\n",
    "            y, std = gpr.predict(x, return_std=True)\n",
    "\n",
    "            x = [datetime.fromtimestamp(t) for t in x]\n",
    "            ax.plot(x, y, color=color, label=team)\n",
    "            ax.fill_between(x, y-std, y+std, color=color, alpha=0.2)\n",
    "        ax.legend()\n",
    "    else:\n",
    "        team = items\n",
    "        gpr = gprs[team]\n",
    "        dates = df[(df['team1'] == team) | (df['team2'] == team)]['date']\n",
    "        \n",
    "        dates = [datetime.fromisoformat(el).timestamp() for el in dates]\n",
    "        x = np.linspace(min(dates), max(dates), 1000).reshape(-1, 1)\n",
    "        y = gpr.predict(x)\n",
    "        \n",
    "        x = [datetime.fromtimestamp(t) for t in x]\n",
    "        ax.plot(x, y, label=team)\n",
    "        ax.legend()\n",
    "        \n",
    "\n",
    "def fit_gpr(train_x, train_y, test_x, kernel, return_gpr=False):\n",
    "    if isinstance(train_x, list):\n",
    "        train_x = np.array(train_x).reshape(-1, 1)\n",
    "    if isinstance(test_x, list):\n",
    "        test_x = np.array(test_x).reshape(-1, 1)\n",
    "    gpr = GaussianProcessRegressor(kernel=kernel, copy_X_train=False)\n",
    "    gpr.fit(train_x, train_y)\n",
    "    \n",
    "    if len(test_x):\n",
    "        test_y = gpr.predict(test_x)\n",
    "    else:\n",
    "        test_y = None\n",
    "    \n",
    "    if return_gpr:\n",
    "        return test_y, gpr.kernel_, gpr\n",
    "    else:\n",
    "        return test_y, gpr.kernel_"
   ]
  },
  {
   "cell_type": "code",
   "execution_count": 15,
   "metadata": {},
   "outputs": [],
   "source": [
    "l_scale = 5 * 365.25 * 24 * 60 * 60\n",
    "noise = 0.2\n",
    "kernel = RBF(length_scale=l_scale, length_scale_bounds=(l_scale/10, l_scale*10)) + \\\n",
    "        WhiteKernel(noise_level=noise, noise_level_bounds=(noise, noise))"
   ]
  },
  {
   "cell_type": "code",
   "execution_count": 19,
   "metadata": {},
   "outputs": [
    {
     "name": "stderr",
     "output_type": "stream",
     "text": [
      "100%|██████████| 102/102 [00:03<00:00, 29.82it/s]\n"
     ]
    }
   ],
   "source": [
    "gprs = defaultdict(object)\n",
    "for team in tqdm(teams):\n",
    "    dates = np.append(df[df['team1'] == team]['date'], df[df['team2'] == team]['date'])\n",
    "    e = np.append(df[df['team1'] == team]['elo1_post'], df[df['team2'] == team]['elo2_post'])\\\n",
    "    \n",
    "    idx = dates < '2020'\n",
    "    dates = dates[idx]\n",
    "    e = e[idx]\n",
    "    \n",
    "    idx = np.argsort(dates)\n",
    "    dates = dates[idx]\n",
    "    e = e[idx]\n",
    "    \n",
    "    dates = np.array([datetime.fromisoformat(el).timestamp() for el in dates])\n",
    "    e -= 1500\n",
    "\n",
    "    months = np.array(list(map(lambda x: datetime.fromtimestamp(x).month, dates)))\n",
    "    idx = np.nonzero(months[1:] != months[:-1])[0]\n",
    "    \n",
    "    train_x = dates[idx].reshape(-1, 1)\n",
    "    train_y = e[idx]\n",
    "\n",
    "\n",
    "    _, _, gpr = fit_gpr(train_x, train_y, [], kernel, return_gpr=True)\n",
    "    \n",
    "    gprs[team] = gpr"
   ]
  },
  {
   "cell_type": "code",
   "execution_count": 21,
   "metadata": {},
   "outputs": [
    {
     "data": {
      "image/png": "[encoded data removed]",
      "text/plain": [
       "<Figure size 1008x216 with 1 Axes>"
      ]
     },
     "metadata": {
      "needs_background": "light"
     },
     "output_type": "display_data"
    }
   ],
   "source": [
    "plot_skills(['LAL', 'CHI', 'BOS'])"
   ]
  },
  {
   "cell_type": "code",
   "execution_count": 22,
   "metadata": {},
   "outputs": [],
   "source": [
    "def predict_result(team1, team2, t):\n",
    "    if isinstance(t, list):\n",
    "        # make multiple predictions for those 2 teams\n",
    "        if isinstance(t[0], str):\n",
    "            for i in range(len(t)):\n",
    "                t[i] = datetime.fromisoformat(t[i]).timestamp()\n",
    "        \n",
    "        t = np.array(t).reshape(-1, 1)\n",
    "        \n",
    "        skills1 = gprs[team1].predict(t)\n",
    "        skills2 = gprs[team2].predict(t)\n",
    "        \n",
    "        res = np.full(len(t), team1)\n",
    "        res[skills1 < skills2] = team2\n",
    "        return res\n",
    "        \n",
    "    else:\n",
    "        if isinstance(t, str):\n",
    "            t = datetime.fromisoformat(t).timestamp()\n",
    "\n",
    "        t = np.array(t).reshape(-1, 1)\n",
    "        skill1 = gprs[team1].predict(t)\n",
    "        skill2 = gprs[team2].predict(t)\n",
    "\n",
    "        if skill1 > skill2:\n",
    "            return team1\n",
    "        else:\n",
    "            return team2"
   ]
  },
  {
   "cell_type": "markdown",
   "metadata": {},
   "source": [
    "## Let's check accuracy of our predictor"
   ]
  },
  {
   "cell_type": "code",
   "execution_count": 23,
   "metadata": {},
   "outputs": [
    {
     "name": "stderr",
     "output_type": "stream",
     "text": [
      "100%|██████████| 69636/69636 [00:35<00:00, 1979.58it/s]\n"
     ]
    }
   ],
   "source": [
    "confussion_matrix = np.zeros((2, 2))\n",
    "\n",
    "for i in tqdm(range(len(df))):\n",
    "    row = df.iloc[i]\n",
    "    if row['season'] < 1950:\n",
    "        continue\n",
    "    \n",
    "    if row['score1'] > row['score2']:\n",
    "        home_w = True\n",
    "        result = row['team1']\n",
    "    else:\n",
    "        home_w = False\n",
    "        result = row['team2']\n",
    "    \n",
    "    pred = predict_result(row['team1'], row['team2'], row['date'])\n",
    "    \n",
    "    if home_w:\n",
    "        if result == pred:\n",
    "            confussion_matrix[0][0] += 1\n",
    "        else:\n",
    "            confussion_matrix[0][1] += 1\n",
    "    else:\n",
    "        if result == pred:\n",
    "            confussion_matrix[1][1] += 1\n",
    "        else:\n",
    "            confussion_matrix[1][0] += 1\n",
    "    "
   ]
  },
  {
   "cell_type": "code",
   "execution_count": 31,
   "metadata": {},
   "outputs": [
    {
     "name": "stdout",
     "output_type": "stream",
     "text": [
      "Confussion matrix:\n",
      "[[26812. 15368.]\n",
      " [ 7540. 18971.]]\n",
      "Accuracy:       0.6665065292396384\n"
     ]
    }
   ],
   "source": [
    "print(f'Confussion matrix:\\n{confussion_matrix}\\nAccuracy: \\\n",
    "      {np.sum(np.diag(confussion_matrix)) / np.sum(confussion_matrix)}')"
   ]
  },
  {
   "cell_type": "code",
   "execution_count": null,
   "metadata": {},
   "outputs": [],
   "source": []
  }
 ],
 "metadata": {
  "kernelspec": {
   "display_name": "Python 3",
   "language": "python",
   "name": "python3"
  },
  "language_info": {
   "codemirror_mode": {
    "name": "ipython",
    "version": 3
   },
   "file_extension": ".py",
   "mimetype": "text/x-python",
   "name": "python",
   "nbconvert_exporter": "python",
   "pygments_lexer": "ipython3",
   "version": "3.7.3"
  }
 },
 "nbformat": 4,
 "nbformat_minor": 4
}
