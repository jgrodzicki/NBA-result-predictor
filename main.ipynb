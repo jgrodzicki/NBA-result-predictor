{
 "cells": [
  {
   "cell_type": "code",
   "execution_count": 1,
   "metadata": {},
   "outputs": [],
   "source": [
    "#setup\n",
    "import numpy as np\n",
    "import pandas as pd\n",
    "import matplotlib.pyplot as plt\n",
    "\n",
    "from collections import defaultdict\n",
    "from itertools import cycle\n",
    "\n",
    "from datetime import datetime, date\n",
    "\n",
    "from tqdm import tqdm\n",
    "\n",
    "from sklearn.gaussian_process import GaussianProcessRegressor\n",
    "from sklearn.gaussian_process.kernels import WhiteKernel, Matern\n",
    "\n",
    "from pandas.plotting import register_matplotlib_converters\n",
    "register_matplotlib_converters()"
   ]
  },
  {
   "cell_type": "markdown",
   "metadata": {},
   "source": [
    "### To start first go to 'Functions' section and run that cell."
   ]
  },
  {
   "cell_type": "markdown",
   "metadata": {},
   "source": [
    "## Goal and ideas"
   ]
  },
  {
   "cell_type": "markdown",
   "metadata": {},
   "source": [
    "The goal is to create model which given home team, vistor and date will predict which team will win. We're focusing less on maximazing the accuracy but more on maximazing the amount of money made on betting on games using predictions provided by our model.\n",
    "\n",
    "The idea is to use Elo ratings for each team to create it's skill function varying in time which is intuitive. To predict which team is going to win we simply need to compare those functions and team with greater value of the skill function will probably defeat the other.\n",
    "\n",
    "We'll use Gaussian Process Regression which uses kernels and tunes its hyperparameters to provide the best fit. Because we have a lot of data, fitting a regression for each team using all Elo ratings would be time consuming. To make it quick we'll use only Elo ratings after the first game in each month (it still gives us good amount of information and gives us reasonable skill function).\n",
    "\n",
    "The Elo rating system is a method for calculating the relative skill levels of players in zero-sum games such as chess. It updates after each game depending on the result (if a very good team beats a very bad team it's Elo score rises insignificantly, but if it loses the value of Elo rating goes down hard)."
   ]
  },
  {
   "cell_type": "markdown",
   "metadata": {},
   "source": [
    "## Load the data"
   ]
  },
  {
   "cell_type": "markdown",
   "metadata": {},
   "source": [
    "It contains information about NBA games starting from 1946-1947 season."
   ]
  },
  {
   "cell_type": "code",
   "execution_count": 3,
   "metadata": {},
   "outputs": [
    {
     "name": "stdout",
     "output_type": "stream",
     "text": [
      "  % Total    % Received % Xferd  Average Speed   Time    Time     Time  Current\n",
      "                                 Dload  Upload   Total   Spent    Left  Speed\n",
      "100 9255k  100 9255k    0     0  7965k      0  0:00:01  0:00:01 --:--:-- 7965k\n"
     ]
    }
   ],
   "source": [
    "!curl https://projects.fivethirtyeight.com/nba-model/nba_elo.csv -o data/nba_data.csv"
   ]
  },
  {
   "cell_type": "code",
   "execution_count": 3,
   "metadata": {},
   "outputs": [],
   "source": [
    "df = pd.read_csv('data/nba_data.csv')"
   ]
  },
  {
   "cell_type": "markdown",
   "metadata": {},
   "source": [
    "We'll use only date, season, teams, scores, and post game Elo ratings."
   ]
  },
  {
   "cell_type": "code",
   "execution_count": 4,
   "metadata": {},
   "outputs": [
    {
     "data": {
      "text/html": [
       "<div>\n",
       "<style scoped>\n",
       "    .dataframe tbody tr th:only-of-type {\n",
       "        vertical-align: middle;\n",
       "    }\n",
       "\n",
       "    .dataframe tbody tr th {\n",
       "        vertical-align: top;\n",
       "    }\n",
       "\n",
       "    .dataframe thead th {\n",
       "        text-align: right;\n",
       "    }\n",
       "</style>\n",
       "<table border=\"1\" class=\"dataframe\">\n",
       "  <thead>\n",
       "    <tr style=\"text-align: right;\">\n",
       "      <th></th>\n",
       "      <th>date</th>\n",
       "      <th>season</th>\n",
       "      <th>team1</th>\n",
       "      <th>team2</th>\n",
       "      <th>score1</th>\n",
       "      <th>score2</th>\n",
       "      <th>elo1_post</th>\n",
       "      <th>elo2_post</th>\n",
       "    </tr>\n",
       "  </thead>\n",
       "  <tbody>\n",
       "    <tr>\n",
       "      <th>0</th>\n",
       "      <td>1946-11-01</td>\n",
       "      <td>1947</td>\n",
       "      <td>TRH</td>\n",
       "      <td>NYK</td>\n",
       "      <td>66.0</td>\n",
       "      <td>68.0</td>\n",
       "      <td>1293.2767</td>\n",
       "      <td>1306.7233</td>\n",
       "    </tr>\n",
       "    <tr>\n",
       "      <th>1</th>\n",
       "      <td>1946-11-02</td>\n",
       "      <td>1947</td>\n",
       "      <td>CHS</td>\n",
       "      <td>NYK</td>\n",
       "      <td>63.0</td>\n",
       "      <td>47.0</td>\n",
       "      <td>1309.6521</td>\n",
       "      <td>1297.0712</td>\n",
       "    </tr>\n",
       "    <tr>\n",
       "      <th>2</th>\n",
       "      <td>1946-11-02</td>\n",
       "      <td>1947</td>\n",
       "      <td>PRO</td>\n",
       "      <td>BOS</td>\n",
       "      <td>59.0</td>\n",
       "      <td>53.0</td>\n",
       "      <td>1305.1542</td>\n",
       "      <td>1294.8458</td>\n",
       "    </tr>\n",
       "    <tr>\n",
       "      <th>3</th>\n",
       "      <td>1946-11-02</td>\n",
       "      <td>1947</td>\n",
       "      <td>STB</td>\n",
       "      <td>PIT</td>\n",
       "      <td>56.0</td>\n",
       "      <td>51.0</td>\n",
       "      <td>1304.6908</td>\n",
       "      <td>1295.3092</td>\n",
       "    </tr>\n",
       "    <tr>\n",
       "      <th>4</th>\n",
       "      <td>1946-11-02</td>\n",
       "      <td>1947</td>\n",
       "      <td>DTF</td>\n",
       "      <td>WSC</td>\n",
       "      <td>33.0</td>\n",
       "      <td>50.0</td>\n",
       "      <td>1279.6189</td>\n",
       "      <td>1320.3811</td>\n",
       "    </tr>\n",
       "  </tbody>\n",
       "</table>\n",
       "</div>"
      ],
      "text/plain": [
       "         date  season team1 team2  score1  score2  elo1_post  elo2_post\n",
       "0  1946-11-01    1947   TRH   NYK    66.0    68.0  1293.2767  1306.7233\n",
       "1  1946-11-02    1947   CHS   NYK    63.0    47.0  1309.6521  1297.0712\n",
       "2  1946-11-02    1947   PRO   BOS    59.0    53.0  1305.1542  1294.8458\n",
       "3  1946-11-02    1947   STB   PIT    56.0    51.0  1304.6908  1295.3092\n",
       "4  1946-11-02    1947   DTF   WSC    33.0    50.0  1279.6189  1320.3811"
      ]
     },
     "execution_count": 4,
     "metadata": {},
     "output_type": "execute_result"
    }
   ],
   "source": [
    "df = df[['date', 'season', 'team1', 'team2', 'score1', 'score2', 'elo1_post', 'elo2_post']]\n",
    "df.head()"
   ]
  },
  {
   "cell_type": "markdown",
   "metadata": {},
   "source": [
    "## Advantage of playing at home\n",
    "We assume that playing it's more common for a home team to win. Let's check if that's correct and if so, how crutial it is. "
   ]
  },
  {
   "cell_type": "code",
   "execution_count": 5,
   "metadata": {},
   "outputs": [
    {
     "data": {
      "image/png": "[encoded data removed]",
      "text/plain": [
       "<Figure size 576x288 with 1 Axes>"
      ]
     },
     "metadata": {
      "needs_background": "light"
     },
     "output_type": "display_data"
    }
   ],
   "source": [
    "x, y = home_team_adv(df)\n",
    "    \n",
    "fig, ax = plt.subplots(figsize=(8, 4))\n",
    "ax.set_title('Home team advantage')\n",
    "ax.set_xlabel('season')\n",
    "ax.set_ylabel('% of home wins')\n",
    "for spine in ('top', 'bottom', 'right', 'left'):\n",
    "    ax.spines[spine].set_visible(False)\n",
    "ax.grid(axis='x', alpha=0.5)\n",
    "ax.plot(x, y)\n",
    "None"
   ]
  },
  {
   "cell_type": "markdown",
   "metadata": {},
   "source": [
    "In last 10 years home team is winning about 60% of games. We should create a constant telling us advantage given to the team by playing at home. Adding 35 Elo Rating points works the best when optimizing accuracy of the model and money made on betting."
   ]
  },
  {
   "cell_type": "code",
   "execution_count": 6,
   "metadata": {},
   "outputs": [],
   "source": [
    "home_team_adv = 35"
   ]
  },
  {
   "cell_type": "markdown",
   "metadata": {},
   "source": [
    "## Create skill function for each team\n",
    "Using ratings of each team at the beginning of the month we'll fit a Gaussian Process Regression using Matern kernel with some noise."
   ]
  },
  {
   "cell_type": "code",
   "execution_count": 7,
   "metadata": {},
   "outputs": [],
   "source": [
    "teams = np.unique(np.append(df['team1'], df['team2']))"
   ]
  },
  {
   "cell_type": "code",
   "execution_count": 8,
   "metadata": {},
   "outputs": [],
   "source": [
    "l_scale = 5 * 365.25 * 24 * 60 * 60\n",
    "noise = 0.1\n",
    "kernel = Matern(nu=5/2, length_scale=l_scale, length_scale_bounds=(l_scale/10, l_scale*10)) + \\\n",
    "        WhiteKernel(noise_level=noise, noise_level_bounds=(noise, noise))"
   ]
  },
  {
   "cell_type": "code",
   "execution_count": 9,
   "metadata": {},
   "outputs": [
    {
     "name": "stderr",
     "output_type": "stream",
     "text": [
      "100%|██████████| 102/102 [00:03<00:00, 30.52it/s]\n"
     ]
    }
   ],
   "source": [
    "gprs = defaultdict(object)\n",
    "for team in tqdm(teams):\n",
    "    gpr = collect_data_and_fit_gpr(team)\n",
    "    gprs[team] = gpr"
   ]
  },
  {
   "cell_type": "code",
   "execution_count": 10,
   "metadata": {},
   "outputs": [
    {
     "data": {
      "image/png": "[encoded data removed]",
      "text/plain": [
       "<Figure size 1008x216 with 1 Axes>"
      ]
     },
     "metadata": {
      "needs_background": "light"
     },
     "output_type": "display_data"
    }
   ],
   "source": [
    "plot_skills(['LAL', 'CHI', 'BOS'], gprs)"
   ]
  },
  {
   "cell_type": "markdown",
   "metadata": {},
   "source": [
    "## Check the accuracy of our predictor"
   ]
  },
  {
   "cell_type": "markdown",
   "metadata": {},
   "source": [
    "Using our data contating information from 1946-1947 season let's check how well the model predict results."
   ]
  },
  {
   "cell_type": "code",
   "execution_count": 11,
   "metadata": {},
   "outputs": [
    {
     "name": "stderr",
     "output_type": "stream",
     "text": [
      "100%|██████████| 69635/69635 [00:34<00:00, 1998.10it/s]\n"
     ]
    }
   ],
   "source": [
    "confussion_matrix = compute_confussion_matrix(df)"
   ]
  },
  {
   "cell_type": "code",
   "execution_count": 12,
   "metadata": {},
   "outputs": [
    {
     "name": "stdout",
     "output_type": "stream",
     "text": [
      "Confussion matrix:\n",
      "[[31285. 11552.]\n",
      " [10215. 16583.]]\n",
      "Accuracy: 0.69%\n"
     ]
    }
   ],
   "source": [
    "print(f'Confussion matrix:\\n{confussion_matrix}\\nAccuracy: \\\n",
    "{round(np.sum(np.diag(confussion_matrix)) / np.sum(confussion_matrix), 2)}%')"
   ]
  },
  {
   "cell_type": "markdown",
   "metadata": {},
   "source": [
    "Accuracy seems to be quite good but from the testing notebook we know that selecting a team with higher Elo Rating as a winner provided 66% accuracy with similar looking confussion matrix."
   ]
  },
  {
   "cell_type": "markdown",
   "metadata": {},
   "source": [
    "## To know if the predictor provides us with useful data, check if we'll will make any money betting on every game \\\\$10."
   ]
  },
  {
   "cell_type": "code",
   "execution_count": 13,
   "metadata": {},
   "outputs": [
    {
     "data": {
      "text/html": [
       "<div>\n",
       "<style scoped>\n",
       "    .dataframe tbody tr th:only-of-type {\n",
       "        vertical-align: middle;\n",
       "    }\n",
       "\n",
       "    .dataframe tbody tr th {\n",
       "        vertical-align: top;\n",
       "    }\n",
       "\n",
       "    .dataframe thead th {\n",
       "        text-align: right;\n",
       "    }\n",
       "</style>\n",
       "<table border=\"1\" class=\"dataframe\">\n",
       "  <thead>\n",
       "    <tr style=\"text-align: right;\">\n",
       "      <th></th>\n",
       "      <th>game_id</th>\n",
       "      <th>game_date</th>\n",
       "      <th>matchup</th>\n",
       "      <th>team_id_x</th>\n",
       "      <th>is_home</th>\n",
       "      <th>wl</th>\n",
       "      <th>w</th>\n",
       "      <th>l</th>\n",
       "      <th>w_pct</th>\n",
       "      <th>min</th>\n",
       "      <th>...</th>\n",
       "      <th>a_team_id_x</th>\n",
       "      <th>season_year</th>\n",
       "      <th>season_type</th>\n",
       "      <th>season</th>\n",
       "      <th>book_name</th>\n",
       "      <th>book_id</th>\n",
       "      <th>team_id_y</th>\n",
       "      <th>a_team_id_y</th>\n",
       "      <th>price1</th>\n",
       "      <th>price2</th>\n",
       "    </tr>\n",
       "  </thead>\n",
       "  <tbody>\n",
       "    <tr>\n",
       "      <th>0</th>\n",
       "      <td>20800741</td>\n",
       "      <td>2009-02-06</td>\n",
       "      <td>SAC vs. UTA</td>\n",
       "      <td>1610612762</td>\n",
       "      <td>f</td>\n",
       "      <td>W</td>\n",
       "      <td>29.0</td>\n",
       "      <td>22.0</td>\n",
       "      <td>0.569</td>\n",
       "      <td>240</td>\n",
       "      <td>...</td>\n",
       "      <td>1610612758</td>\n",
       "      <td>2008</td>\n",
       "      <td>Regular Season</td>\n",
       "      <td>2008-09</td>\n",
       "      <td>5Dimes</td>\n",
       "      <td>19</td>\n",
       "      <td>1610612762</td>\n",
       "      <td>1610612758</td>\n",
       "      <td>-142.0</td>\n",
       "      <td>132.0</td>\n",
       "    </tr>\n",
       "    <tr>\n",
       "      <th>1</th>\n",
       "      <td>20800701</td>\n",
       "      <td>2009-01-31</td>\n",
       "      <td>POR vs. UTA</td>\n",
       "      <td>1610612762</td>\n",
       "      <td>f</td>\n",
       "      <td>L</td>\n",
       "      <td>26.0</td>\n",
       "      <td>22.0</td>\n",
       "      <td>0.542</td>\n",
       "      <td>240</td>\n",
       "      <td>...</td>\n",
       "      <td>1610612757</td>\n",
       "      <td>2008</td>\n",
       "      <td>Regular Season</td>\n",
       "      <td>2008-09</td>\n",
       "      <td>5Dimes</td>\n",
       "      <td>19</td>\n",
       "      <td>1610612762</td>\n",
       "      <td>1610612757</td>\n",
       "      <td>400.0</td>\n",
       "      <td>-500.0</td>\n",
       "    </tr>\n",
       "    <tr>\n",
       "      <th>2</th>\n",
       "      <td>20800584</td>\n",
       "      <td>2009-01-16</td>\n",
       "      <td>MEM vs. UTA</td>\n",
       "      <td>1610612762</td>\n",
       "      <td>f</td>\n",
       "      <td>W</td>\n",
       "      <td>24.0</td>\n",
       "      <td>16.0</td>\n",
       "      <td>0.600</td>\n",
       "      <td>240</td>\n",
       "      <td>...</td>\n",
       "      <td>1610612763</td>\n",
       "      <td>2008</td>\n",
       "      <td>Regular Season</td>\n",
       "      <td>2008-09</td>\n",
       "      <td>5Dimes</td>\n",
       "      <td>19</td>\n",
       "      <td>1610612762</td>\n",
       "      <td>1610612763</td>\n",
       "      <td>-175.0</td>\n",
       "      <td>165.0</td>\n",
       "    </tr>\n",
       "    <tr>\n",
       "      <th>3</th>\n",
       "      <td>20800440</td>\n",
       "      <td>2008-12-27</td>\n",
       "      <td>HOU vs. UTA</td>\n",
       "      <td>1610612762</td>\n",
       "      <td>f</td>\n",
       "      <td>L</td>\n",
       "      <td>18.0</td>\n",
       "      <td>14.0</td>\n",
       "      <td>0.563</td>\n",
       "      <td>290</td>\n",
       "      <td>...</td>\n",
       "      <td>1610612745</td>\n",
       "      <td>2008</td>\n",
       "      <td>Regular Season</td>\n",
       "      <td>2008-09</td>\n",
       "      <td>5Dimes</td>\n",
       "      <td>19</td>\n",
       "      <td>1610612762</td>\n",
       "      <td>1610612745</td>\n",
       "      <td>410.0</td>\n",
       "      <td>-460.0</td>\n",
       "    </tr>\n",
       "    <tr>\n",
       "      <th>4</th>\n",
       "      <td>20800395</td>\n",
       "      <td>2008-12-20</td>\n",
       "      <td>CHI vs. UTA</td>\n",
       "      <td>1610612762</td>\n",
       "      <td>f</td>\n",
       "      <td>L</td>\n",
       "      <td>17.0</td>\n",
       "      <td>12.0</td>\n",
       "      <td>0.586</td>\n",
       "      <td>240</td>\n",
       "      <td>...</td>\n",
       "      <td>1610612741</td>\n",
       "      <td>2008</td>\n",
       "      <td>Regular Season</td>\n",
       "      <td>2008-09</td>\n",
       "      <td>5Dimes</td>\n",
       "      <td>19</td>\n",
       "      <td>1610612762</td>\n",
       "      <td>1610612741</td>\n",
       "      <td>-130.0</td>\n",
       "      <td>120.0</td>\n",
       "    </tr>\n",
       "  </tbody>\n",
       "</table>\n",
       "<p>5 rows × 38 columns</p>\n",
       "</div>"
      ],
      "text/plain": [
       "    game_id   game_date      matchup   team_id_x is_home wl     w     l  \\\n",
       "0  20800741  2009-02-06  SAC vs. UTA  1610612762       f  W  29.0  22.0   \n",
       "1  20800701  2009-01-31  POR vs. UTA  1610612762       f  L  26.0  22.0   \n",
       "2  20800584  2009-01-16  MEM vs. UTA  1610612762       f  W  24.0  16.0   \n",
       "3  20800440  2008-12-27  HOU vs. UTA  1610612762       f  L  18.0  14.0   \n",
       "4  20800395  2008-12-20  CHI vs. UTA  1610612762       f  L  17.0  12.0   \n",
       "\n",
       "   w_pct  min  ...  a_team_id_x  season_year     season_type   season  \\\n",
       "0  0.569  240  ...   1610612758         2008  Regular Season  2008-09   \n",
       "1  0.542  240  ...   1610612757         2008  Regular Season  2008-09   \n",
       "2  0.600  240  ...   1610612763         2008  Regular Season  2008-09   \n",
       "3  0.563  290  ...   1610612745         2008  Regular Season  2008-09   \n",
       "4  0.586  240  ...   1610612741         2008  Regular Season  2008-09   \n",
       "\n",
       "   book_name  book_id   team_id_y  a_team_id_y  price1  price2  \n",
       "0     5Dimes       19  1610612762   1610612758  -142.0   132.0  \n",
       "1     5Dimes       19  1610612762   1610612757   400.0  -500.0  \n",
       "2     5Dimes       19  1610612762   1610612763  -175.0   165.0  \n",
       "3     5Dimes       19  1610612762   1610612745   410.0  -460.0  \n",
       "4     5Dimes       19  1610612762   1610612741  -130.0   120.0  \n",
       "\n",
       "[5 rows x 38 columns]"
      ]
     },
     "execution_count": 13,
     "metadata": {},
     "output_type": "execute_result"
    }
   ],
   "source": [
    "games_df = pd.read_csv('data/nba_games_all.csv')\n",
    "lines_df = pd.read_csv('data/nba_betting_money_line.csv')\n",
    "\n",
    "games_df = games_df[games_df['is_home'] == 'f']\n",
    "book = lines_df['book_name'].value_counts().index[0]\n",
    "lines_df = lines_df[lines_df['book_name'] == book]\n",
    "\n",
    "lg_df = games_df.merge(lines_df, on='game_id')\n",
    "lg_df.head()"
   ]
  },
  {
   "cell_type": "markdown",
   "metadata": {},
   "source": [
    "As tested there is an opitmal betting line providing the best made placed on bets : money won ratio. If line for the worse team is above 250 (for betting \\\\$100 we'll win \\\\$250) it's not worth to place bet. If our prediction is correct we'll win almost nothing but we risk losing that money if the better team loses."
   ]
  },
  {
   "cell_type": "code",
   "execution_count": 14,
   "metadata": {},
   "outputs": [
    {
     "name": "stderr",
     "output_type": "stream",
     "text": [
      "100%|██████████| 14894/14894 [00:06<00:00, 2142.67it/s]\n"
     ]
    }
   ],
   "source": [
    "max_opt_line = 250\n",
    "money_d, money_s, n = check_money_made_on_betting(lg_df, max_opt_line)"
   ]
  },
  {
   "cell_type": "code",
   "execution_count": 15,
   "metadata": {},
   "outputs": [
    {
     "name": "stdout",
     "output_type": "stream",
     "text": [
      "Total money made: $4413.03, first bet placed: 2006-11-01, last: 2018-05-28\n",
      "Average money made from one bet: $0.59, bets taken: 7526, bets skipped: 7368\n",
      "Average money made in one day: $2.01\n",
      "Average money made in a season: $367.75\n",
      "The worst season was 2017-18 with $83.06 made, the best season - 2007-08 with $627.0 made\n",
      "The worst day was 2012-02-04 with $-71.39 made, the best day - 2007-01-10 with $68.83 made\n"
     ]
    }
   ],
   "source": [
    "print_betting_info(money_d, money_s, n)"
   ]
  },
  {
   "cell_type": "markdown",
   "metadata": {},
   "source": [
    "From each \\\\$10 we were able to make about \\\\$0.6 which gives us 6%. Accuracy from basic comparing Elo Ratings may be similar to accuracy given by our model but it's completely useless - we would lost \\\\$1700 using that technique.\n",
    "\n",
    "It means that the model was able to predict that a team with worse rating will win because it played well before and the decrease in rating was probably a bad luck."
   ]
  },
  {
   "cell_type": "code",
   "execution_count": 16,
   "metadata": {},
   "outputs": [
    {
     "data": {
      "image/png": "[encoded data removed]",
      "text/plain": [
       "<Figure size 1008x360 with 1 Axes>"
      ]
     },
     "metadata": {
      "needs_background": "light"
     },
     "output_type": "display_data"
    }
   ],
   "source": [
    "plot_money_made_season(money_s)"
   ]
  },
  {
   "cell_type": "markdown",
   "metadata": {},
   "source": [
    "# Functions"
   ]
  },
  {
   "cell_type": "code",
   "execution_count": 2,
   "metadata": {},
   "outputs": [],
   "source": [
    "def fit_gpr(train_x, train_y, kernel, return_gpr=False):\n",
    "    '''\n",
    "    fit Gaussian Process Regression using training data\n",
    "    '''\n",
    "    if isinstance(train_x, list):\n",
    "        train_x = np.array(train_x).reshape(-1, 1)\n",
    "    \n",
    "    gpr = GaussianProcessRegressor(kernel=kernel, copy_X_train=False)\n",
    "    gpr.fit(train_x, train_y)\n",
    "    \n",
    "    return gpr\n",
    "\n",
    "\n",
    "def plot_skills(items, gprs, figsize=(14.0, 3.0), title='Evolution of skill of NBA teams', xlims=None):\n",
    "    '''\n",
    "    plot skill of each team given in items list\n",
    "    '''\n",
    "    colors = cycle(plt.cm.tab10(np.linspace(0, 1, 10)))\n",
    "    fig, ax = plt.subplots(figsize=figsize)\n",
    "    \n",
    "    ax.set_title(title)\n",
    "    for spine in ('top', 'right', 'bottom', 'left'):\n",
    "        ax.spines[spine].set_visible(False)\n",
    "    ax.grid(axis='x', alpha=0.5)\n",
    "    \n",
    "    if xlims is not None:\n",
    "        xmin = datetime.fromisoformat(xlims[0]).timestamp()\n",
    "        xmax = datetime.fromisoformat(xlims[1]).timestamp()\n",
    "    \n",
    "    if isinstance(items, list):\n",
    "        for team in items:\n",
    "            color = next(colors)\n",
    "            gpr = gprs[team]\n",
    "            dates = df[(df['team1'] == team) | (df['team2'] == team)]['date']\n",
    "        \n",
    "            dates = [datetime.fromisoformat(el).timestamp() for el in dates]\n",
    "            if xlims == None:\n",
    "                x = np.linspace(min(dates), max(dates), 1000).reshape(-1, 1)\n",
    "            else:\n",
    "                x = np.linspace(max(min(dates), xmin), min(max(dates), xmax), 1000).reshape(-1, 1)\n",
    "            y, std = gpr.predict(x, return_std=True)\n",
    "\n",
    "            x = [datetime.fromtimestamp(t) for t in x]\n",
    "            ax.plot(x, y, color=color, label=team)\n",
    "            ax.fill_between(x, y-std, y+std, color=color, alpha=0.2)\n",
    "        ax.legend()\n",
    "    else:\n",
    "        team = items\n",
    "        gpr = gprs[team]\n",
    "        dates = df[(df['team1'] == team) | (df['team2'] == team)]['date']\n",
    "        \n",
    "        dates = [datetime.fromisoformat(el).timestamp() for el in dates]\n",
    "        if xlims == None:\n",
    "            x = np.linspace(min(dates), max(dates), 1000).reshape(-1, 1)\n",
    "        else:\n",
    "            x = np.linspace(max(min(dates), xmin), min(max(dates), xmax), 1000).reshape(-1, 1)\n",
    "        y = gpr.predict(x)\n",
    "        \n",
    "        x = [datetime.fromtimestamp(t) for t in x]\n",
    "        ax.plot(x, y, label=team)\n",
    "        ax.legend()\n",
    "        \n",
    "        \n",
    "def predict_result(team1, team2, t):\n",
    "    '''\n",
    "    check who had greater skill at given time\n",
    "    '''\n",
    "    if isinstance(t, list):\n",
    "        # make multiple predictions for those 2 teams\n",
    "        if isinstance(t[0], str):\n",
    "            for i in range(len(t)):\n",
    "                t[i] = datetime.fromisoformat(t[i]).timestamp()\n",
    "        \n",
    "        t = np.array(t).reshape(-1, 1)\n",
    "        \n",
    "        skills1 = gprs[team1].predict(t)\n",
    "        skills2 = gprs[team2].predict(t)\n",
    "        skills1 += home_team_adv\n",
    "        \n",
    "        res = np.full(len(t), team1)\n",
    "        res[skills1 < skills2] = team2\n",
    "        return res\n",
    "        \n",
    "    else:\n",
    "        if isinstance(t, str):\n",
    "            t = datetime.fromisoformat(t).timestamp()\n",
    "\n",
    "        t = np.array(t).reshape(-1, 1)\n",
    "        skill1 = gprs[team1].predict(t)\n",
    "        skill2 = gprs[team2].predict(t)\n",
    "        skill1 += home_team_adv\n",
    "\n",
    "        if skill1 > skill2:\n",
    "            return team1\n",
    "        else:\n",
    "            return team2\n",
    "\n",
    "        \n",
    "def money_boost(line, our_bet):\n",
    "    '''\n",
    "    how much money we made from a bet\n",
    "    '''\n",
    "    if line < 0:\n",
    "        return 100 * (our_bet / -line)\n",
    "    else:\n",
    "        return line / (100 / our_bet)\n",
    "\n",
    "\n",
    "def collect_data_and_fit_gpr(team):\n",
    "    '''\n",
    "    for given team collect Elo ratings from start of each month and use it to fit Gaussian Process Regression\n",
    "    '''\n",
    "    dates = np.append(df[df['team1'] == team]['date'], df[df['team2'] == team]['date'])\n",
    "    e = np.append(df[df['team1'] == team]['elo1_post'], df[df['team2'] == team]['elo2_post'])\n",
    "    \n",
    "    idx = dates < datetime.today().strftime('%Y-%m-%d')\n",
    "    dates = dates[idx]\n",
    "    e = e[idx]\n",
    "    \n",
    "    idx = np.argsort(dates)\n",
    "    dates = dates[idx]\n",
    "    e = e[idx]\n",
    "    \n",
    "    dates = np.array([datetime.fromisoformat(el).timestamp() for el in dates])\n",
    "    e -= 1500\n",
    "\n",
    "    months = np.array(list(map(lambda x: datetime.fromtimestamp(x).month, dates)))\n",
    "    idx = np.nonzero(months[1:] != months[:-1])[0]\n",
    "    \n",
    "    train_x = dates[idx].reshape(-1, 1)\n",
    "    train_y = e[idx]\n",
    "\n",
    "\n",
    "    gpr = fit_gpr(train_x, train_y, kernel, return_gpr=True)\n",
    "    \n",
    "    return gpr\n",
    "\n",
    "\n",
    "def home_team_adv(df):\n",
    "    '''\n",
    "    computes how many games did home team win in each season\n",
    "    '''\n",
    "    last_s = df.iloc[0]['season']\n",
    "    gp = home_w = 0\n",
    "    x, y = [], []\n",
    "    \n",
    "    for s in np.unique(df['season']):\n",
    "        if s == 2020:\n",
    "            break\n",
    "        sub_df = df[df['season'] == s]\n",
    "        won = np.count_nonzero(sub_df['score1'] > sub_df['score2'])\n",
    "        x.append(s)\n",
    "        y.append(won / len(sub_df))\n",
    "\n",
    "    return x, y\n",
    "\n",
    "\n",
    "def compute_confussion_matrix(df):\n",
    "    '''\n",
    "    check the accuracy of our model\n",
    "    '''\n",
    "    confussion_matrix = np.zeros((2, 2))\n",
    "\n",
    "    for i in tqdm(range(len(df))):\n",
    "        row = df.iloc[i]\n",
    "\n",
    "        if row['score1'] > row['score2']:\n",
    "            home_w = True\n",
    "            result = row['team1']\n",
    "        else:\n",
    "            home_w = False\n",
    "            result = row['team2']\n",
    "\n",
    "        pred = predict_result(row['team1'], row['team2'], row['date'])\n",
    "\n",
    "        if home_w:\n",
    "            if result == pred:\n",
    "                confussion_matrix[0][0] += 1\n",
    "            else:\n",
    "                confussion_matrix[0][1] += 1\n",
    "        else:\n",
    "            if result == pred:\n",
    "                confussion_matrix[1][1] += 1\n",
    "            else:\n",
    "                confussion_matrix[1][0] += 1\n",
    "    return confussion_matrix\n",
    "\n",
    "\n",
    "def check_money_made_on_betting(lg_df, max_opt_line):\n",
    "    '''\n",
    "    returns 2 dicts: money made in season and money made daily\n",
    "    '''\n",
    "    money_s = defaultdict(int)\n",
    "    money_d = defaultdict(int)\n",
    "    our_bet = 10\n",
    "    n = 0\n",
    "\n",
    "    for i in tqdm(range(len(lg_df)), position=0, leave=True):\n",
    "        row = lg_df.iloc[i]\n",
    "        t = row['game_date']\n",
    "        s = row['season']\n",
    "        t1, t2 = row['matchup'].split(' vs. ')\n",
    "\n",
    "        if t1 not in teams or t2 not in teams:\n",
    "            continue\n",
    "\n",
    "        if row['price1'] > max_opt_line or row['price2'] > max_opt_line:\n",
    "            continue\n",
    "\n",
    "        pred = predict_result(t1, t2, t)\n",
    "        n += 1\n",
    "\n",
    "        if pred == t2 and row['wl'] == 'W':\n",
    "            money_d[t] += money_boost(row['price1'], our_bet)\n",
    "            money_s[s] += money_boost(row['price1'], our_bet)\n",
    "        elif pred == t1 and row['wl'] == 'L':\n",
    "            money_d[t] += money_boost(row['price2'], our_bet)\n",
    "            money_s[s] += money_boost(row['price2'], our_bet)\n",
    "        else:\n",
    "            money_d[t] -= our_bet\n",
    "            money_s[s] -= our_bet\n",
    "    \n",
    "    return money_d, money_s, n\n",
    "\n",
    "\n",
    "def print_betting_info(money_d, money_s, n):\n",
    "    '''\n",
    "    after computing money made on betting print any usefull information\n",
    "    '''\n",
    "    print(f'Total money made: ${round(sum(money_d.values()), 2)}, first bet placed: {min(money_d.keys())}, \\\n",
    "last: {max(money_d.keys())}')\n",
    "    print(f'Average money made from one bet: ${round(sum(money_s.values()) / n, 2)}, bets taken: {n}, \\\n",
    "bets skipped: {len(lg_df) - n}')\n",
    "    print(f'Average money made in one day: ${round(sum(money_d.values()) / len(money_d.values()), 2)}')\n",
    "    print(f'Average money made in a season: ${round(sum(money_s.values()) / len(money_s.values()), 2)}')\n",
    "\n",
    "    max_s_idx = np.argmax(list(money_s.values()))\n",
    "    min_s_idx = np.argmin(list(money_s.values()))\n",
    "    \n",
    "    max_d_idx = np.argmax(list(money_d.values()))\n",
    "    min_d_idx = np.argmin(list(money_d.values()))\n",
    "\n",
    "\n",
    "    print(f'The worst season was {list(money_s.keys())[min_s_idx]} with \\\n",
    "${round(list(money_s.values())[min_s_idx], 2)} made, the best season - {list(money_s.keys())[max_s_idx]} \\\n",
    "with ${round(list(money_s.values())[max_s_idx], 2)} made')\n",
    "    \n",
    "    \n",
    "    print(f'The worst day was {list(money_d.keys())[min_d_idx]} with \\\n",
    "${round(list(money_d.values())[min_d_idx], 2)} made, the best day - {list(money_d.keys())[max_d_idx]} \\\n",
    "with ${round(list(money_d.values())[max_d_idx], 2)} made')\n",
    "\n",
    "\n",
    "def plot_money_made_season(money_s):\n",
    "    '''\n",
    "    plot how much money we made in each season\n",
    "    '''\n",
    "    x, y = [], []\n",
    "    for k, v in money_s.items():\n",
    "        x.append(k)\n",
    "        y.append(v)\n",
    "\n",
    "    x = np.array(x)\n",
    "    y = np.array(y)\n",
    "    idx = np.argsort(x)\n",
    "    x = x[idx]\n",
    "    y = y[idx]\n",
    "\n",
    "    fig, ax = plt.subplots(figsize=(14, 5))\n",
    "    ax.set_title('Money made in each season')\n",
    "    ax.set_xlabel('Season')\n",
    "    ax.set_ylabel('Money made')\n",
    "    for spine in ('top', 'right', 'bottom', 'left'):\n",
    "        ax.spines[spine].set_visible(False)\n",
    "    ax.grid(axis='x', alpha=0.5)\n",
    "\n",
    "    ax.plot(x, y)\n",
    "    ax.plot(x, np.zeros(x.shape), color='r', alpha=0.6)\n",
    "    ax.plot(x, np.full(x.shape, sum(money_s.values()) / len(money_s.values())), color='g', alpha=0.6)"
   ]
  },
  {
   "cell_type": "code",
   "execution_count": 22,
   "metadata": {},
   "outputs": [
    {
     "data": {
      "text/plain": [
       "'2020-02-09'"
      ]
     },
     "execution_count": 22,
     "metadata": {},
     "output_type": "execute_result"
    }
   ],
   "source": [
    "datetime.today().strftime('%Y-%m-%d')"
   ]
  },
  {
   "cell_type": "code",
   "execution_count": null,
   "metadata": {},
   "outputs": [],
   "source": []
  }
 ],
 "metadata": {
  "kernelspec": {
   "display_name": "Python 3",
   "language": "python",
   "name": "python3"
  },
  "language_info": {
   "codemirror_mode": {
    "name": "ipython",
    "version": 3
   },
   "file_extension": ".py",
   "mimetype": "text/x-python",
   "name": "python",
   "nbconvert_exporter": "python",
   "pygments_lexer": "ipython3",
   "version": "3.7.3"
  }
 },
 "nbformat": 4,
 "nbformat_minor": 4
}
