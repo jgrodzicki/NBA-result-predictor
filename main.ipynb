{
 "cells": [
  {
   "cell_type": "code",
   "execution_count": 1,
   "metadata": {},
   "outputs": [],
   "source": [
    "#setup\n",
    "import numpy as np\n",
    "import pandas as pd\n",
    "import matplotlib.pyplot as plt\n",
    "\n",
    "from collections import defaultdict\n",
    "from itertools import cycle\n",
    "\n",
    "from datetime import datetime\n",
    "\n",
    "from tqdm import tqdm\n",
    "\n",
    "from sklearn.gaussian_process import GaussianProcessClassifier, GaussianProcessRegressor\n",
    "from sklearn.gaussian_process.kernels import RBF, WhiteKernel"
   ]
  },
  {
   "cell_type": "markdown",
   "metadata": {},
   "source": [
    "## Load the data"
   ]
  },
  {
   "cell_type": "code",
   "execution_count": 2,
   "metadata": {},
   "outputs": [
    {
     "name": "stdout",
     "output_type": "stream",
     "text": [
      "  % Total    % Received % Xferd  Average Speed   Time    Time     Time  Current\n",
      "                                 Dload  Upload   Total   Spent    Left  Speed\n",
      "100 9245k  100 9245k    0     0  3755k      0  0:00:02  0:00:02 --:--:-- 3753k\n"
     ]
    }
   ],
   "source": [
    "!curl https://projects.fivethirtyeight.com/nba-model/nba_elo.csv -o nba_data.csv"
   ]
  },
  {
   "cell_type": "code",
   "execution_count": 3,
   "metadata": {},
   "outputs": [],
   "source": [
    "df = pd.read_csv('nba_data.csv')"
   ]
  },
  {
   "cell_type": "code",
   "execution_count": 4,
   "metadata": {},
   "outputs": [
    {
     "data": {
      "text/html": [
       "<div>\n",
       "<style scoped>\n",
       "    .dataframe tbody tr th:only-of-type {\n",
       "        vertical-align: middle;\n",
       "    }\n",
       "\n",
       "    .dataframe tbody tr th {\n",
       "        vertical-align: top;\n",
       "    }\n",
       "\n",
       "    .dataframe thead th {\n",
       "        text-align: right;\n",
       "    }\n",
       "</style>\n",
       "<table border=\"1\" class=\"dataframe\">\n",
       "  <thead>\n",
       "    <tr style=\"text-align: right;\">\n",
       "      <th></th>\n",
       "      <th>date</th>\n",
       "      <th>season</th>\n",
       "      <th>neutral</th>\n",
       "      <th>playoff</th>\n",
       "      <th>team1</th>\n",
       "      <th>team2</th>\n",
       "      <th>elo1_pre</th>\n",
       "      <th>elo2_pre</th>\n",
       "      <th>elo_prob1</th>\n",
       "      <th>elo_prob2</th>\n",
       "      <th>...</th>\n",
       "      <th>carm-elo_prob1</th>\n",
       "      <th>carm-elo_prob2</th>\n",
       "      <th>carm-elo1_post</th>\n",
       "      <th>carm-elo2_post</th>\n",
       "      <th>raptor1_pre</th>\n",
       "      <th>raptor2_pre</th>\n",
       "      <th>raptor_prob1</th>\n",
       "      <th>raptor_prob2</th>\n",
       "      <th>score1</th>\n",
       "      <th>score2</th>\n",
       "    </tr>\n",
       "  </thead>\n",
       "  <tbody>\n",
       "    <tr>\n",
       "      <th>0</th>\n",
       "      <td>1946-11-01</td>\n",
       "      <td>1947</td>\n",
       "      <td>0</td>\n",
       "      <td>NaN</td>\n",
       "      <td>TRH</td>\n",
       "      <td>NYK</td>\n",
       "      <td>1300.0</td>\n",
       "      <td>1300.0000</td>\n",
       "      <td>0.640065</td>\n",
       "      <td>0.359935</td>\n",
       "      <td>...</td>\n",
       "      <td>NaN</td>\n",
       "      <td>NaN</td>\n",
       "      <td>NaN</td>\n",
       "      <td>NaN</td>\n",
       "      <td>NaN</td>\n",
       "      <td>NaN</td>\n",
       "      <td>NaN</td>\n",
       "      <td>NaN</td>\n",
       "      <td>66.0</td>\n",
       "      <td>68.0</td>\n",
       "    </tr>\n",
       "    <tr>\n",
       "      <th>1</th>\n",
       "      <td>1946-11-02</td>\n",
       "      <td>1947</td>\n",
       "      <td>0</td>\n",
       "      <td>NaN</td>\n",
       "      <td>CHS</td>\n",
       "      <td>NYK</td>\n",
       "      <td>1300.0</td>\n",
       "      <td>1306.7233</td>\n",
       "      <td>0.631101</td>\n",
       "      <td>0.368899</td>\n",
       "      <td>...</td>\n",
       "      <td>NaN</td>\n",
       "      <td>NaN</td>\n",
       "      <td>NaN</td>\n",
       "      <td>NaN</td>\n",
       "      <td>NaN</td>\n",
       "      <td>NaN</td>\n",
       "      <td>NaN</td>\n",
       "      <td>NaN</td>\n",
       "      <td>63.0</td>\n",
       "      <td>47.0</td>\n",
       "    </tr>\n",
       "    <tr>\n",
       "      <th>2</th>\n",
       "      <td>1946-11-02</td>\n",
       "      <td>1947</td>\n",
       "      <td>0</td>\n",
       "      <td>NaN</td>\n",
       "      <td>PRO</td>\n",
       "      <td>BOS</td>\n",
       "      <td>1300.0</td>\n",
       "      <td>1300.0000</td>\n",
       "      <td>0.640065</td>\n",
       "      <td>0.359935</td>\n",
       "      <td>...</td>\n",
       "      <td>NaN</td>\n",
       "      <td>NaN</td>\n",
       "      <td>NaN</td>\n",
       "      <td>NaN</td>\n",
       "      <td>NaN</td>\n",
       "      <td>NaN</td>\n",
       "      <td>NaN</td>\n",
       "      <td>NaN</td>\n",
       "      <td>59.0</td>\n",
       "      <td>53.0</td>\n",
       "    </tr>\n",
       "    <tr>\n",
       "      <th>3</th>\n",
       "      <td>1946-11-02</td>\n",
       "      <td>1947</td>\n",
       "      <td>0</td>\n",
       "      <td>NaN</td>\n",
       "      <td>STB</td>\n",
       "      <td>PIT</td>\n",
       "      <td>1300.0</td>\n",
       "      <td>1300.0000</td>\n",
       "      <td>0.640065</td>\n",
       "      <td>0.359935</td>\n",
       "      <td>...</td>\n",
       "      <td>NaN</td>\n",
       "      <td>NaN</td>\n",
       "      <td>NaN</td>\n",
       "      <td>NaN</td>\n",
       "      <td>NaN</td>\n",
       "      <td>NaN</td>\n",
       "      <td>NaN</td>\n",
       "      <td>NaN</td>\n",
       "      <td>56.0</td>\n",
       "      <td>51.0</td>\n",
       "    </tr>\n",
       "    <tr>\n",
       "      <th>4</th>\n",
       "      <td>1946-11-02</td>\n",
       "      <td>1947</td>\n",
       "      <td>0</td>\n",
       "      <td>NaN</td>\n",
       "      <td>DTF</td>\n",
       "      <td>WSC</td>\n",
       "      <td>1300.0</td>\n",
       "      <td>1300.0000</td>\n",
       "      <td>0.640065</td>\n",
       "      <td>0.359935</td>\n",
       "      <td>...</td>\n",
       "      <td>NaN</td>\n",
       "      <td>NaN</td>\n",
       "      <td>NaN</td>\n",
       "      <td>NaN</td>\n",
       "      <td>NaN</td>\n",
       "      <td>NaN</td>\n",
       "      <td>NaN</td>\n",
       "      <td>NaN</td>\n",
       "      <td>33.0</td>\n",
       "      <td>50.0</td>\n",
       "    </tr>\n",
       "  </tbody>\n",
       "</table>\n",
       "<p>5 rows × 24 columns</p>\n",
       "</div>"
      ],
      "text/plain": [
       "         date  season  neutral playoff team1 team2  elo1_pre   elo2_pre  \\\n",
       "0  1946-11-01    1947        0     NaN   TRH   NYK    1300.0  1300.0000   \n",
       "1  1946-11-02    1947        0     NaN   CHS   NYK    1300.0  1306.7233   \n",
       "2  1946-11-02    1947        0     NaN   PRO   BOS    1300.0  1300.0000   \n",
       "3  1946-11-02    1947        0     NaN   STB   PIT    1300.0  1300.0000   \n",
       "4  1946-11-02    1947        0     NaN   DTF   WSC    1300.0  1300.0000   \n",
       "\n",
       "   elo_prob1  elo_prob2  ...  carm-elo_prob1  carm-elo_prob2  carm-elo1_post  \\\n",
       "0   0.640065   0.359935  ...             NaN             NaN             NaN   \n",
       "1   0.631101   0.368899  ...             NaN             NaN             NaN   \n",
       "2   0.640065   0.359935  ...             NaN             NaN             NaN   \n",
       "3   0.640065   0.359935  ...             NaN             NaN             NaN   \n",
       "4   0.640065   0.359935  ...             NaN             NaN             NaN   \n",
       "\n",
       "   carm-elo2_post  raptor1_pre  raptor2_pre  raptor_prob1  raptor_prob2  \\\n",
       "0             NaN          NaN          NaN           NaN           NaN   \n",
       "1             NaN          NaN          NaN           NaN           NaN   \n",
       "2             NaN          NaN          NaN           NaN           NaN   \n",
       "3             NaN          NaN          NaN           NaN           NaN   \n",
       "4             NaN          NaN          NaN           NaN           NaN   \n",
       "\n",
       "   score1  score2  \n",
       "0    66.0    68.0  \n",
       "1    63.0    47.0  \n",
       "2    59.0    53.0  \n",
       "3    56.0    51.0  \n",
       "4    33.0    50.0  \n",
       "\n",
       "[5 rows x 24 columns]"
      ]
     },
     "execution_count": 4,
     "metadata": {},
     "output_type": "execute_result"
    }
   ],
   "source": [
    "df.head()"
   ]
  },
  {
   "cell_type": "markdown",
   "metadata": {},
   "source": [
    "We'll use only date, season, teams, scores, and post game elos"
   ]
  },
  {
   "cell_type": "markdown",
   "metadata": {},
   "source": [
    "## How important is playing at home"
   ]
  },
  {
   "cell_type": "code",
   "execution_count": 83,
   "metadata": {},
   "outputs": [
    {
     "data": {
      "text/plain": [
       "[<matplotlib.lines.Line2D at 0x125ff4d30>]"
      ]
     },
     "execution_count": 83,
     "metadata": {},
     "output_type": "execute_result"
    },
    {
     "data": {
      "image/png": "[encoded data removed]",
      "text/plain": [
       "<Figure size 576x288 with 1 Axes>"
      ]
     },
     "metadata": {
      "needs_background": "light"
     },
     "output_type": "display_data"
    }
   ],
   "source": [
    "last_s = df.iloc[0]['season']\n",
    "gp = home_w = 0\n",
    "x, y = [], []\n",
    "\n",
    "for i in range(len(df)):\n",
    "    row = df.iloc[i]\n",
    "    \n",
    "    s = row['season']\n",
    "    \n",
    "    if s != last_s:\n",
    "        x.append(s)\n",
    "        y.append(home_w / gp)\n",
    "        gp = home_w = 0\n",
    "    \n",
    "    if row['score1'] > row['score2']:\n",
    "        home_w += 1\n",
    "    gp += 1\n",
    "    \n",
    "    last_s = s\n",
    "    \n",
    "fig, ax = plt.subplots(figsize=(8, 4))\n",
    "ax.set_title('Home team advantage')\n",
    "ax.set_xlabel('season')\n",
    "ax.set_ylabel('% of home wins')\n",
    "for spine in ('top', 'bottom', 'right', 'left'):\n",
    "    ax.spines[spine].set_visible(False)\n",
    "ax.grid(axis='x', alpha=0.5)\n",
    "ax.plot(x, y)"
   ]
  },
  {
   "cell_type": "code",
   "execution_count": 84,
   "metadata": {},
   "outputs": [],
   "source": [
    "home_team_adv = 69"
   ]
  },
  {
   "cell_type": "markdown",
   "metadata": {},
   "source": [
    "In last 10 years home team is winning about 60% of games. It translates to 69 Elo Rating points."
   ]
  },
  {
   "cell_type": "markdown",
   "metadata": {},
   "source": [
    "## Plot the skill rating"
   ]
  },
  {
   "cell_type": "code",
   "execution_count": 5,
   "metadata": {},
   "outputs": [],
   "source": [
    "teams = np.unique(np.append(df['team1'], df['team2']))"
   ]
  },
  {
   "cell_type": "code",
   "execution_count": 6,
   "metadata": {},
   "outputs": [],
   "source": [
    "def plot_skills(items, figsize=(14.0, 3.0), title='Evolution of skill of NBA teams'):\n",
    "    colors = cycle(plt.cm.tab10(np.linspace(0, 1, 10)))\n",
    "    fig, ax = plt.subplots(figsize=figsize)\n",
    "    \n",
    "    ax.set_title(title)\n",
    "    for spine in ('top', 'right', 'bottom', 'left'):\n",
    "        ax.spines[spine].set_visible(False)\n",
    "    ax.grid(axis='x', alpha=0.5)\n",
    "    \n",
    "    if isinstance(items, list):\n",
    "        for team in items:\n",
    "            color = next(colors)\n",
    "            gpr = gprs[team]\n",
    "            dates = df[(df['team1'] == team) | (df['team2'] == team)]['date']\n",
    "        \n",
    "            dates = [datetime.fromisoformat(el).timestamp() for el in dates]\n",
    "            x = np.linspace(min(dates), max(dates), 1000).reshape(-1, 1)\n",
    "            y, std = gpr.predict(x, return_std=True)\n",
    "\n",
    "            x = [datetime.fromtimestamp(t) for t in x]\n",
    "            ax.plot(x, y, color=color, label=team)\n",
    "            ax.fill_between(x, y-std, y+std, color=color, alpha=0.2)\n",
    "        ax.legend()\n",
    "    else:\n",
    "        team = items\n",
    "        gpr = gprs[team]\n",
    "        dates = df[(df['team1'] == team) | (df['team2'] == team)]['date']\n",
    "        \n",
    "        dates = [datetime.fromisoformat(el).timestamp() for el in dates]\n",
    "        x = np.linspace(min(dates), max(dates), 1000).reshape(-1, 1)\n",
    "        y = gpr.predict(x)\n",
    "        \n",
    "        x = [datetime.fromtimestamp(t) for t in x]\n",
    "        ax.plot(x, y, label=team)\n",
    "        ax.legend()\n",
    "        \n",
    "\n",
    "def fit_gpr(train_x, train_y, test_x, kernel, return_gpr=False):\n",
    "    if isinstance(train_x, list):\n",
    "        train_x = np.array(train_x).reshape(-1, 1)\n",
    "    if isinstance(test_x, list):\n",
    "        test_x = np.array(test_x).reshape(-1, 1)\n",
    "    gpr = GaussianProcessRegressor(kernel=kernel, copy_X_train=False)\n",
    "    gpr.fit(train_x, train_y)\n",
    "    \n",
    "    if len(test_x):\n",
    "        test_y = gpr.predict(test_x)\n",
    "    else:\n",
    "        test_y = None\n",
    "    \n",
    "    if return_gpr:\n",
    "        return test_y, gpr.kernel_, gpr\n",
    "    else:\n",
    "        return test_y, gpr.kernel_"
   ]
  },
  {
   "cell_type": "code",
   "execution_count": 51,
   "metadata": {},
   "outputs": [],
   "source": [
    "l_scale = 5 * 365.25 * 24 * 60 * 60\n",
    "noise = 0.25\n",
    "kernel = RBF(length_scale=l_scale, length_scale_bounds=(l_scale/10, l_scale*10)) + \\\n",
    "        WhiteKernel(noise_level=noise, noise_level_bounds=(noise, noise))"
   ]
  },
  {
   "cell_type": "code",
   "execution_count": 52,
   "metadata": {},
   "outputs": [
    {
     "name": "stderr",
     "output_type": "stream",
     "text": [
      "100%|██████████| 102/102 [00:03<00:00, 26.47it/s]\n"
     ]
    }
   ],
   "source": [
    "gprs = defaultdict(object)\n",
    "for team in tqdm(teams):\n",
    "    dates = np.append(df[df['team1'] == team]['date'], df[df['team2'] == team]['date'])\n",
    "    e = np.append(df[df['team1'] == team]['elo1_post'], df[df['team2'] == team]['elo2_post'])\n",
    "    \n",
    "    idx = dates < '2020'\n",
    "    dates = dates[idx]\n",
    "    e = e[idx]\n",
    "    \n",
    "    idx = np.argsort(dates)\n",
    "    dates = dates[idx]\n",
    "    e = e[idx]\n",
    "    \n",
    "    dates = np.array([datetime.fromisoformat(el).timestamp() for el in dates])\n",
    "    e -= 1500\n",
    "\n",
    "    months = np.array(list(map(lambda x: datetime.fromtimestamp(x).month, dates)))\n",
    "    idx = np.nonzero(months[1:] != months[:-1])[0]\n",
    "    \n",
    "    train_x = dates[idx].reshape(-1, 1)\n",
    "    train_y = e[idx]\n",
    "\n",
    "\n",
    "    _, _, gpr = fit_gpr(train_x, train_y, [], kernel, return_gpr=True)\n",
    "    \n",
    "    gprs[team] = gpr"
   ]
  },
  {
   "cell_type": "code",
   "execution_count": 53,
   "metadata": {},
   "outputs": [
    {
     "data": {
      "image/png": "[encoded data removed]",
      "text/plain": [
       "<Figure size 1008x216 with 1 Axes>"
      ]
     },
     "metadata": {
      "needs_background": "light"
     },
     "output_type": "display_data"
    }
   ],
   "source": [
    "plot_skills(['LAL', 'CHI', 'BOS'])"
   ]
  },
  {
   "cell_type": "markdown",
   "metadata": {},
   "source": [
    "## Check the accuracy of our predictor"
   ]
  },
  {
   "cell_type": "code",
   "execution_count": 114,
   "metadata": {},
   "outputs": [],
   "source": [
    "def predict_result(team1, team2, t):\n",
    "    if isinstance(t, list):\n",
    "        # make multiple predictions for those 2 teams\n",
    "        if isinstance(t[0], str):\n",
    "            for i in range(len(t)):\n",
    "                t[i] = datetime.fromisoformat(t[i]).timestamp()\n",
    "        \n",
    "        t = np.array(t).reshape(-1, 1)\n",
    "        \n",
    "        skills1 = gprs[team1].predict(t)\n",
    "        skills2 = gprs[team2].predict(t)\n",
    "        skills1 += home_team_adv\n",
    "        \n",
    "        res = np.full(len(t), team1)\n",
    "        res[skills1 < skills2] = team2\n",
    "        return res\n",
    "        \n",
    "    else:\n",
    "        if isinstance(t, str):\n",
    "            t = datetime.fromisoformat(t).timestamp()\n",
    "\n",
    "        t = np.array(t).reshape(-1, 1)\n",
    "        skill1 = gprs[team1].predict(t)\n",
    "        skill2 = gprs[team2].predict(t)\n",
    "        skill1 += home_team_adv\n",
    "\n",
    "        if skill1 > skill2:\n",
    "            return team1\n",
    "        else:\n",
    "            return team2"
   ]
  },
  {
   "cell_type": "code",
   "execution_count": 115,
   "metadata": {},
   "outputs": [
    {
     "name": "stderr",
     "output_type": "stream",
     "text": [
      "100%|██████████| 69636/69636 [00:35<00:00, 1986.20it/s]\n"
     ]
    }
   ],
   "source": [
    "confussion_matrix = np.zeros((2, 2))\n",
    "\n",
    "for i in tqdm(range(len(df))):\n",
    "    row = df.iloc[i]\n",
    "    if row['season'] < 1950:\n",
    "        continue\n",
    "    \n",
    "    if row['score1'] > row['score2']:\n",
    "        home_w = True\n",
    "        result = row['team1']\n",
    "    else:\n",
    "        home_w = False\n",
    "        result = row['team2']\n",
    "    \n",
    "    pred = predict_result(row['team1'], row['team2'], row['date'])\n",
    "    \n",
    "    if home_w:\n",
    "        if result == pred:\n",
    "            confussion_matrix[0][0] += 1\n",
    "        else:\n",
    "            confussion_matrix[0][1] += 1\n",
    "    else:\n",
    "        if result == pred:\n",
    "            confussion_matrix[1][1] += 1\n",
    "        else:\n",
    "            confussion_matrix[1][0] += 1\n",
    "    "
   ]
  },
  {
   "cell_type": "code",
   "execution_count": 116,
   "metadata": {},
   "outputs": [
    {
     "name": "stdout",
     "output_type": "stream",
     "text": [
      "Confussion matrix:\n",
      "[[34079.  8105.]\n",
      " [12947. 13560.]]\n",
      "Accuracy:       0.6935260805636837\n"
     ]
    }
   ],
   "source": [
    "print(f'Confussion matrix:\\n{confussion_matrix}\\nAccuracy: \\\n",
    "      {np.sum(np.diag(confussion_matrix)) / np.sum(confussion_matrix)}')"
   ]
  },
  {
   "cell_type": "markdown",
   "metadata": {},
   "source": [
    "## To know if the predictor provides us with useful data, check if we'll will make any money betting on every game $10."
   ]
  },
  {
   "cell_type": "code",
   "execution_count": 117,
   "metadata": {},
   "outputs": [],
   "source": [
    "games_df = pd.read_csv('data/nba_games_all.csv')\n",
    "lines_df = pd.read_csv('data/nba_betting_money_line.csv')"
   ]
  },
  {
   "cell_type": "code",
   "execution_count": 118,
   "metadata": {},
   "outputs": [],
   "source": [
    "games_df = games_df[games_df['is_home'] == 'f']\n",
    "book = lines_df['book_name'].value_counts().index[0]\n",
    "lines_df = lines_df[lines_df['book_name'] == book]"
   ]
  },
  {
   "cell_type": "code",
   "execution_count": 119,
   "metadata": {},
   "outputs": [
    {
     "data": {
      "text/html": [
       "<div>\n",
       "<style scoped>\n",
       "    .dataframe tbody tr th:only-of-type {\n",
       "        vertical-align: middle;\n",
       "    }\n",
       "\n",
       "    .dataframe tbody tr th {\n",
       "        vertical-align: top;\n",
       "    }\n",
       "\n",
       "    .dataframe thead th {\n",
       "        text-align: right;\n",
       "    }\n",
       "</style>\n",
       "<table border=\"1\" class=\"dataframe\">\n",
       "  <thead>\n",
       "    <tr style=\"text-align: right;\">\n",
       "      <th></th>\n",
       "      <th>game_id</th>\n",
       "      <th>game_date</th>\n",
       "      <th>matchup</th>\n",
       "      <th>team_id_x</th>\n",
       "      <th>is_home</th>\n",
       "      <th>wl</th>\n",
       "      <th>w</th>\n",
       "      <th>l</th>\n",
       "      <th>w_pct</th>\n",
       "      <th>min</th>\n",
       "      <th>...</th>\n",
       "      <th>a_team_id_x</th>\n",
       "      <th>season_year</th>\n",
       "      <th>season_type</th>\n",
       "      <th>season</th>\n",
       "      <th>book_name</th>\n",
       "      <th>book_id</th>\n",
       "      <th>team_id_y</th>\n",
       "      <th>a_team_id_y</th>\n",
       "      <th>price1</th>\n",
       "      <th>price2</th>\n",
       "    </tr>\n",
       "  </thead>\n",
       "  <tbody>\n",
       "    <tr>\n",
       "      <th>0</th>\n",
       "      <td>20800741</td>\n",
       "      <td>2009-02-06</td>\n",
       "      <td>SAC vs. UTA</td>\n",
       "      <td>1610612762</td>\n",
       "      <td>f</td>\n",
       "      <td>W</td>\n",
       "      <td>29.0</td>\n",
       "      <td>22.0</td>\n",
       "      <td>0.569</td>\n",
       "      <td>240</td>\n",
       "      <td>...</td>\n",
       "      <td>1610612758</td>\n",
       "      <td>2008</td>\n",
       "      <td>Regular Season</td>\n",
       "      <td>2008-09</td>\n",
       "      <td>5Dimes</td>\n",
       "      <td>19</td>\n",
       "      <td>1610612762</td>\n",
       "      <td>1610612758</td>\n",
       "      <td>-142.0</td>\n",
       "      <td>132.0</td>\n",
       "    </tr>\n",
       "    <tr>\n",
       "      <th>1</th>\n",
       "      <td>20800701</td>\n",
       "      <td>2009-01-31</td>\n",
       "      <td>POR vs. UTA</td>\n",
       "      <td>1610612762</td>\n",
       "      <td>f</td>\n",
       "      <td>L</td>\n",
       "      <td>26.0</td>\n",
       "      <td>22.0</td>\n",
       "      <td>0.542</td>\n",
       "      <td>240</td>\n",
       "      <td>...</td>\n",
       "      <td>1610612757</td>\n",
       "      <td>2008</td>\n",
       "      <td>Regular Season</td>\n",
       "      <td>2008-09</td>\n",
       "      <td>5Dimes</td>\n",
       "      <td>19</td>\n",
       "      <td>1610612762</td>\n",
       "      <td>1610612757</td>\n",
       "      <td>400.0</td>\n",
       "      <td>-500.0</td>\n",
       "    </tr>\n",
       "    <tr>\n",
       "      <th>2</th>\n",
       "      <td>20800584</td>\n",
       "      <td>2009-01-16</td>\n",
       "      <td>MEM vs. UTA</td>\n",
       "      <td>1610612762</td>\n",
       "      <td>f</td>\n",
       "      <td>W</td>\n",
       "      <td>24.0</td>\n",
       "      <td>16.0</td>\n",
       "      <td>0.600</td>\n",
       "      <td>240</td>\n",
       "      <td>...</td>\n",
       "      <td>1610612763</td>\n",
       "      <td>2008</td>\n",
       "      <td>Regular Season</td>\n",
       "      <td>2008-09</td>\n",
       "      <td>5Dimes</td>\n",
       "      <td>19</td>\n",
       "      <td>1610612762</td>\n",
       "      <td>1610612763</td>\n",
       "      <td>-175.0</td>\n",
       "      <td>165.0</td>\n",
       "    </tr>\n",
       "    <tr>\n",
       "      <th>3</th>\n",
       "      <td>20800440</td>\n",
       "      <td>2008-12-27</td>\n",
       "      <td>HOU vs. UTA</td>\n",
       "      <td>1610612762</td>\n",
       "      <td>f</td>\n",
       "      <td>L</td>\n",
       "      <td>18.0</td>\n",
       "      <td>14.0</td>\n",
       "      <td>0.563</td>\n",
       "      <td>290</td>\n",
       "      <td>...</td>\n",
       "      <td>1610612745</td>\n",
       "      <td>2008</td>\n",
       "      <td>Regular Season</td>\n",
       "      <td>2008-09</td>\n",
       "      <td>5Dimes</td>\n",
       "      <td>19</td>\n",
       "      <td>1610612762</td>\n",
       "      <td>1610612745</td>\n",
       "      <td>410.0</td>\n",
       "      <td>-460.0</td>\n",
       "    </tr>\n",
       "    <tr>\n",
       "      <th>4</th>\n",
       "      <td>20800395</td>\n",
       "      <td>2008-12-20</td>\n",
       "      <td>CHI vs. UTA</td>\n",
       "      <td>1610612762</td>\n",
       "      <td>f</td>\n",
       "      <td>L</td>\n",
       "      <td>17.0</td>\n",
       "      <td>12.0</td>\n",
       "      <td>0.586</td>\n",
       "      <td>240</td>\n",
       "      <td>...</td>\n",
       "      <td>1610612741</td>\n",
       "      <td>2008</td>\n",
       "      <td>Regular Season</td>\n",
       "      <td>2008-09</td>\n",
       "      <td>5Dimes</td>\n",
       "      <td>19</td>\n",
       "      <td>1610612762</td>\n",
       "      <td>1610612741</td>\n",
       "      <td>-130.0</td>\n",
       "      <td>120.0</td>\n",
       "    </tr>\n",
       "  </tbody>\n",
       "</table>\n",
       "<p>5 rows × 38 columns</p>\n",
       "</div>"
      ],
      "text/plain": [
       "    game_id   game_date      matchup   team_id_x is_home wl     w     l  \\\n",
       "0  20800741  2009-02-06  SAC vs. UTA  1610612762       f  W  29.0  22.0   \n",
       "1  20800701  2009-01-31  POR vs. UTA  1610612762       f  L  26.0  22.0   \n",
       "2  20800584  2009-01-16  MEM vs. UTA  1610612762       f  W  24.0  16.0   \n",
       "3  20800440  2008-12-27  HOU vs. UTA  1610612762       f  L  18.0  14.0   \n",
       "4  20800395  2008-12-20  CHI vs. UTA  1610612762       f  L  17.0  12.0   \n",
       "\n",
       "   w_pct  min  ...  a_team_id_x  season_year     season_type   season  \\\n",
       "0  0.569  240  ...   1610612758         2008  Regular Season  2008-09   \n",
       "1  0.542  240  ...   1610612757         2008  Regular Season  2008-09   \n",
       "2  0.600  240  ...   1610612763         2008  Regular Season  2008-09   \n",
       "3  0.563  290  ...   1610612745         2008  Regular Season  2008-09   \n",
       "4  0.586  240  ...   1610612741         2008  Regular Season  2008-09   \n",
       "\n",
       "   book_name  book_id   team_id_y  a_team_id_y  price1  price2  \n",
       "0     5Dimes       19  1610612762   1610612758  -142.0   132.0  \n",
       "1     5Dimes       19  1610612762   1610612757   400.0  -500.0  \n",
       "2     5Dimes       19  1610612762   1610612763  -175.0   165.0  \n",
       "3     5Dimes       19  1610612762   1610612745   410.0  -460.0  \n",
       "4     5Dimes       19  1610612762   1610612741  -130.0   120.0  \n",
       "\n",
       "[5 rows x 38 columns]"
      ]
     },
     "execution_count": 119,
     "metadata": {},
     "output_type": "execute_result"
    }
   ],
   "source": [
    "lg_df = games_df.merge(lines_df, on='game_id')\n",
    "lg_df.head()"
   ]
  },
  {
   "cell_type": "code",
   "execution_count": 126,
   "metadata": {},
   "outputs": [
    {
     "name": "stderr",
     "output_type": "stream",
     "text": [
      "100%|██████████| 14894/14894 [00:09<00:00, 1616.62it/s]\n"
     ]
    }
   ],
   "source": [
    "def money_boost(line):\n",
    "    if line < 0:\n",
    "        return 100 * (our_bet / -line)\n",
    "    else:\n",
    "        return line / (100 / our_bet)\n",
    "    \n",
    "money_s = defaultdict(int)\n",
    "money_d = defaultdict(int)\n",
    "our_bet = 10\n",
    "n = 0\n",
    "opt_max_line = 250\n",
    "\n",
    "for i in tqdm(range(len(lg_df)), position=0, leave=True):\n",
    "    row = lg_df.iloc[i]\n",
    "    t = row['game_date']\n",
    "    s = row['season']\n",
    "    t1, t2 = row['matchup'].split(' vs. ')\n",
    "    \n",
    "    if t1 not in teams or t2 not in teams:\n",
    "        continue\n",
    "        \n",
    "    if row['price1'] > opt_max_line or row['price2'] > opt_max_line:\n",
    "        continue\n",
    "        \n",
    "    \n",
    "    pred = predict_result(t1, t2, t)\n",
    "    n += 1\n",
    "    \n",
    "    if pred == t2 and row['wl'] == 'W':\n",
    "        money_d[t] += money_boost(row['price2'])\n",
    "        money_s[s] += money_boost(row['price2'])\n",
    "    elif pred == t1 and row['wl'] == 'L':\n",
    "        money_d[s] += money_boost(row['price1'])\n",
    "        money_s[s] += money_boost(row['price1'])\n",
    "    else:\n",
    "        money_d[s] -= our_bet\n",
    "        money_s[s] -= our_bet"
   ]
  },
  {
   "cell_type": "code",
   "execution_count": 127,
   "metadata": {},
   "outputs": [
    {
     "name": "stdout",
     "output_type": "stream",
     "text": [
      "Total money made: 41858.90430381531, first bet placed: 2006-07, last: 2018-05-06\n",
      "Average money made from one bet: 5.561905966491523, bets taken: 7526, bets skipped: 7368\n",
      "Average money made in one day: 34.19845122860728\n",
      "Average money made in a season: 3488.2420253179334\n"
     ]
    }
   ],
   "source": [
    "print(f'Total money made: {sum(money_d.values())}, first bet placed: {min(money_d.keys())}, last: {max(money_d.keys())}')\n",
    "print(f'Average money made from one bet: {sum(money_s.values()) / n}, bets taken: {n}, bets skipped: {len(lg_df) - n}')\n",
    "print(f'Average money made in one day: {sum(money_d.values()) / len(money_d.values())}')\n",
    "print(f'Average money made in a season: {sum(money_s.values()) / len(money_s.values())}')"
   ]
  },
  {
   "cell_type": "code",
   "execution_count": 128,
   "metadata": {},
   "outputs": [
    {
     "data": {
      "text/plain": [
       "[<matplotlib.lines.Line2D at 0x11cc58cc0>]"
      ]
     },
     "execution_count": 128,
     "metadata": {},
     "output_type": "execute_result"
    },
    {
     "data": {
      "image/png": "[encoded data removed]",
      "text/plain": [
       "<Figure size 1008x360 with 1 Axes>"
      ]
     },
     "metadata": {
      "needs_background": "light"
     },
     "output_type": "display_data"
    }
   ],
   "source": [
    "x, y = [], []\n",
    "for k, v in money_s.items():\n",
    "    x.append(k)\n",
    "    y.append(v)\n",
    "    \n",
    "x = np.array(x)\n",
    "y = np.array(y)\n",
    "idx = np.argsort(x)\n",
    "x = x[idx]\n",
    "y = y[idx]\n",
    "\n",
    "fig, ax = plt.subplots(figsize=(14, 5))\n",
    "ax.set_title('Money made in each season')\n",
    "ax.set_xlabel('Season')\n",
    "ax.set_ylabel('Money made')\n",
    "for spine in ('top', 'right', 'bottom', 'left'):\n",
    "    ax.spines[spine].set_visible(False)\n",
    "ax.grid(axis='x', alpha=0.5)\n",
    "\n",
    "ax.plot(x, y)\n",
    "ax.plot(x, np.zeros(x.shape), color='r', alpha=0.6)"
   ]
  },
  {
   "cell_type": "code",
   "execution_count": null,
   "metadata": {},
   "outputs": [],
   "source": []
  }
 ],
 "metadata": {
  "kernelspec": {
   "display_name": "Python 3",
   "language": "python",
   "name": "python3"
  },
  "language_info": {
   "codemirror_mode": {
    "name": "ipython",
    "version": 3
   },
   "file_extension": ".py",
   "mimetype": "text/x-python",
   "name": "python",
   "nbconvert_exporter": "python",
   "pygments_lexer": "ipython3",
   "version": "3.7.3"
  }
 },
 "nbformat": 4,
 "nbformat_minor": 4
}
